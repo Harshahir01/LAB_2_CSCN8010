{
 "cells": [
  {
   "cell_type": "code",
   "execution_count": null,
   "metadata": {},
   "outputs": [],
   "source": []
  },
  {
   "cell_type": "markdown",
   "metadata": {},
   "source": [
    "Pairplot:\n",
    "\n",
    "Reference: Kaggle - Exploratory Data Analysis - Iris Dataset\n",
    "Explanation: A pairplot displays pairwise relationships between features in a dataset. For the Iris dataset, this graph shows scatterplots of each pair of features, with different colors representing different classes. It helps us visualize how features are related to each other and whether there are any patterns or clusters that can be observed.\n",
    "Violin Plot:\n",
    "\n",
    "Reference: Kaggle - Iris Species Classification\n",
    "Explanation: A violin plot is used to visualize the distribution of a continuous variable across different categories. In the context of the Iris dataset, a violin plot can be used to compare the distribution of each feature for the different classes of Iris species. It provides insights into the spread and central tendency of each feature within each class.\n",
    "Boxplot:\n",
    "\n",
    "Reference: Kaggle - Iris Data Analysis and Machine Learning\n",
    "Explanation: A boxplot, also known as a box-and-whisker plot, is used to visualize the distribution of a continuous variable and identify any outliers. In the context of the Iris dataset, a boxplot can be used to compare the distribution of each feature for the different classes of Iris species. It provides information about the median, quartiles, and range of each feature within each class.\n",
    "Insights:\n",
    "\n",
    "Sepal length and petal length are highly correlated, indicating that as one increases, the other tends to increase as well. This relationship might help in distinguishing between different species of Iris.\n",
    "The sepal width of the setosa species tends to have a narrower range compared to other species, as observed in the boxplot. This could be a distinguishing characteristic of the setosa species.\n",
    "The petal width of the virginica species tends to have the widest range among all species, as shown in the violin plot. This could indicate variability within the virginica species in terms of petal width.\n",
    "\n"
   ]
  }
 ],
 "metadata": {
  "language_info": {
   "name": "python"
  }
 },
 "nbformat": 4,
 "nbformat_minor": 2
}
